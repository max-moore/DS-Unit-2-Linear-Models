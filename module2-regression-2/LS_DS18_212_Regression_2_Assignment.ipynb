{
  "nbformat": 4,
  "nbformat_minor": 0,
  "metadata": {
    "kernelspec": {
      "display_name": "Python 3",
      "language": "python",
      "name": "python3"
    },
    "language_info": {
      "codemirror_mode": {
        "name": "ipython",
        "version": 3
      },
      "file_extension": ".py",
      "mimetype": "text/x-python",
      "name": "python",
      "nbconvert_exporter": "python",
      "pygments_lexer": "ipython3",
      "version": "3.7.3"
    },
    "colab": {
      "name": "LS_DS18_212_Regression_2_Assignment.ipynb",
      "provenance": [],
      "collapsed_sections": [],
      "include_colab_link": true
    }
  },
  "cells": [
    {
      "cell_type": "markdown",
      "metadata": {
        "id": "view-in-github",
        "colab_type": "text"
      },
      "source": [
        "<a href=\"https://colab.research.google.com/github/max-moore/DS-Unit-2-Linear-Models/blob/master/module2-regression-2/LS_DS18_212_Regression_2_Assignment.ipynb\" target=\"_parent\"><img src=\"https://colab.research.google.com/assets/colab-badge.svg\" alt=\"Open In Colab\"/></a>"
      ]
    },
    {
      "cell_type": "markdown",
      "metadata": {
        "id": "_yB3-caanrvK",
        "colab_type": "text"
      },
      "source": [
        "Lambda School Data Science\n",
        "\n",
        "*Unit 2, Sprint 1, Module 2*\n",
        "\n",
        "---"
      ]
    },
    {
      "cell_type": "markdown",
      "metadata": {
        "colab_type": "text",
        "id": "7IXUfiQ2UKj6"
      },
      "source": [
        "# Regression 2\n",
        "\n",
        "## Assignment\n",
        "\n",
        "You'll continue to **predict how much it costs to rent an apartment in NYC,** using the dataset from renthop.com.\n",
        "\n",
        "- [ ] Do train/test split. Use data from April & May 2016 to train. Use data from June 2016 to test.\n",
        "- [ ] Engineer at least two new features. (See below for explanation & ideas.)\n",
        "- [ ] Fit a linear regression model with at least two features.\n",
        "- [ ] Get the model's coefficients and intercept.\n",
        "- [ ] Get regression metrics RMSE, MAE, and $R^2$, for both the train and test data.\n",
        "- [ ] What's the best test MAE you can get? Share your score and features used with your cohort on Slack!\n",
        "- [ ] As always, commit your notebook to your fork of the GitHub repo.\n",
        "\n",
        "\n",
        "#### [Feature Engineering](https://en.wikipedia.org/wiki/Feature_engineering)\n",
        "\n",
        "> \"Some machine learning projects succeed and some fail. What makes the difference? Easily the most important factor is the features used.\" — Pedro Domingos, [\"A Few Useful Things to Know about Machine Learning\"](https://homes.cs.washington.edu/~pedrod/papers/cacm12.pdf)\n",
        "\n",
        "> \"Coming up with features is difficult, time-consuming, requires expert knowledge. 'Applied machine learning' is basically feature engineering.\" — Andrew Ng, [Machine Learning and AI via Brain simulations](https://forum.stanford.edu/events/2011/2011slides/plenary/2011plenaryNg.pdf) \n",
        "\n",
        "> Feature engineering is the process of using domain knowledge of the data to create features that make machine learning algorithms work. \n",
        "\n",
        "#### Feature Ideas\n",
        "- Does the apartment have a description?\n",
        "- How long is the description?\n",
        "- How many total perks does each apartment have?\n",
        "- Are cats _or_ dogs allowed?\n",
        "- Are cats _and_ dogs allowed?\n",
        "- Total number of rooms (beds + baths)\n",
        "- Ratio of beds to baths\n",
        "- What's the neighborhood, based on address or latitude & longitude?\n",
        "\n",
        "## Stretch Goals\n",
        "- [ ] If you want more math, skim [_An Introduction to Statistical Learning_](http://faculty.marshall.usc.edu/gareth-james/ISL/ISLR%20Seventh%20Printing.pdf),  Chapter 3.1, Simple Linear Regression, & Chapter 3.2, Multiple Linear Regression\n",
        "- [ ] If you want more introduction, watch [Brandon Foltz, Statistics 101: Simple Linear Regression](https://www.youtube.com/watch?v=ZkjP5RJLQF4)\n",
        "(20 minutes, over 1 million views)\n",
        "- [ ] Add your own stretch goal(s) !"
      ]
    },
    {
      "cell_type": "code",
      "metadata": {
        "colab_type": "code",
        "id": "o9eSnDYhUGD7",
        "colab": {}
      },
      "source": [
        "%%capture\n",
        "import sys\n",
        "\n",
        "# If you're on Colab:\n",
        "if 'google.colab' in sys.modules:\n",
        "    DATA_PATH = 'https://raw.githubusercontent.com/LambdaSchool/DS-Unit-2-Applied-Modeling/master/data/'\n",
        "    !pip install category_encoders==2.*\n",
        "\n",
        "# If you're working locally:\n",
        "else:\n",
        "    DATA_PATH = '../data/'\n",
        "    \n",
        "# Ignore this Numpy warning when using Plotly Express:\n",
        "# FutureWarning: Method .ptp is deprecated and will be removed in a future version. Use numpy.ptp instead.\n",
        "import warnings\n",
        "warnings.filterwarnings(action='ignore', category=FutureWarning, module='numpy')"
      ],
      "execution_count": null,
      "outputs": []
    },
    {
      "cell_type": "code",
      "metadata": {
        "colab_type": "code",
        "id": "cvrw-T3bZOuW",
        "colab": {}
      },
      "source": [
        "import numpy as np\n",
        "import pandas as pd\n",
        "import matplotlib.pyplot as plt\n",
        "\n",
        "# Read New York City apartment rental listing data\n",
        "df = pd.read_csv(DATA_PATH+'apartments/renthop-nyc.csv')\n",
        "assert df.shape == (49352, 34)\n",
        "\n",
        "# Remove the most extreme 1% prices,\n",
        "# the most extreme .1% latitudes, &\n",
        "# the most extreme .1% longitudes\n",
        "df = df[(df['price'] >= np.percentile(df['price'], 0.5)) & \n",
        "        (df['price'] <= np.percentile(df['price'], 99.5)) & \n",
        "        (df['latitude'] >= np.percentile(df['latitude'], 0.05)) & \n",
        "        (df['latitude'] < np.percentile(df['latitude'], 99.95)) &\n",
        "        (df['longitude'] >= np.percentile(df['longitude'], 0.05)) & \n",
        "        (df['longitude'] <= np.percentile(df['longitude'], 99.95))]"
      ],
      "execution_count": null,
      "outputs": []
    },
    {
      "cell_type": "markdown",
      "metadata": {
        "id": "ysUUIakoOMUD",
        "colab_type": "text"
      },
      "source": [
        "# Train/Test Split"
      ]
    },
    {
      "cell_type": "code",
      "metadata": {
        "id": "ahz8BBoqLxPe",
        "colab_type": "code",
        "colab": {}
      },
      "source": [
        "# Quick look at the dataframe\n",
        "\n",
        "df"
      ],
      "execution_count": null,
      "outputs": []
    },
    {
      "cell_type": "code",
      "metadata": {
        "id": "1z_jrq1DMI9r",
        "colab_type": "code",
        "colab": {}
      },
      "source": [
        "# Converting the 'created' feature to datetime for easy conditional usage\n",
        "\n",
        "df['created'] = pd.to_datetime(df['created'])"
      ],
      "execution_count": null,
      "outputs": []
    },
    {
      "cell_type": "code",
      "metadata": {
        "id": "a-YtYtGcMwIQ",
        "colab_type": "code",
        "colab": {}
      },
      "source": [
        "# Creating a train/test split\n",
        "\n",
        "train = df[df['created'] < '2016-06']\n",
        "test = df[df['created'] >= '2016-06']"
      ],
      "execution_count": null,
      "outputs": []
    },
    {
      "cell_type": "code",
      "metadata": {
        "id": "QVRLYqXTNoCV",
        "colab_type": "code",
        "colab": {
          "base_uri": "https://localhost:8080/",
          "height": 35
        },
        "outputId": "890743b0-6826-4345-f9b9-3a6083251671"
      },
      "source": [
        "# Checking the shape, looks good\n",
        "\n",
        "train.shape, test.shape"
      ],
      "execution_count": null,
      "outputs": [
        {
          "output_type": "execute_result",
          "data": {
            "text/plain": [
              "((31844, 34), (16973, 34))"
            ]
          },
          "metadata": {
            "tags": []
          },
          "execution_count": 117
        }
      ]
    },
    {
      "cell_type": "markdown",
      "metadata": {
        "id": "hYJpyamWOS2I",
        "colab_type": "text"
      },
      "source": [
        "# Feature Engineering"
      ]
    },
    {
      "cell_type": "code",
      "metadata": {
        "id": "Xq3WbOW0OaCD",
        "colab_type": "code",
        "colab": {}
      },
      "source": [
        "# I want to engineer a 'total_rooms' feature\n",
        "\n",
        "df['total_rooms'] = df['bedrooms'] + df['bathrooms']"
      ],
      "execution_count": null,
      "outputs": []
    },
    {
      "cell_type": "code",
      "metadata": {
        "id": "IkKcLzuBPAoD",
        "colab_type": "code",
        "colab": {}
      },
      "source": [
        "df"
      ],
      "execution_count": null,
      "outputs": []
    },
    {
      "cell_type": "code",
      "metadata": {
        "id": "xHzpOFgqPPG5",
        "colab_type": "code",
        "colab": {}
      },
      "source": [
        "# Engineering a 'cats and dogs allowed' feature\n",
        "\n",
        "df['cats_and_dogs'] = df['cats_allowed'] * df['dogs_allowed']"
      ],
      "execution_count": null,
      "outputs": []
    },
    {
      "cell_type": "code",
      "metadata": {
        "id": "C6fMbBduPh66",
        "colab_type": "code",
        "colab": {
          "base_uri": "https://localhost:8080/",
          "height": 237
        },
        "outputId": "0657d451-d923-4e6f-981d-fa3d7219ca0d"
      },
      "source": [
        "# Checking, this lines up with our dataframe's 'cat/dog allowed' values\n",
        "\n",
        "df['cats_and_dogs']"
      ],
      "execution_count": null,
      "outputs": [
        {
          "output_type": "execute_result",
          "data": {
            "text/plain": [
              "0        0\n",
              "1        1\n",
              "2        0\n",
              "3        0\n",
              "4        0\n",
              "        ..\n",
              "49347    0\n",
              "49348    1\n",
              "49349    1\n",
              "49350    1\n",
              "49351    0\n",
              "Name: cats_and_dogs, Length: 48817, dtype: int64"
            ]
          },
          "metadata": {
            "tags": []
          },
          "execution_count": 121
        }
      ]
    },
    {
      "cell_type": "markdown",
      "metadata": {
        "id": "lxHBzxNFTh_q",
        "colab_type": "text"
      },
      "source": [
        "# Fit Linear Regression Model"
      ]
    },
    {
      "cell_type": "code",
      "metadata": {
        "id": "wN1RgWSuU6JQ",
        "colab_type": "code",
        "colab": {}
      },
      "source": [
        "# Import estimator class and instantiate\n",
        "\n",
        "from sklearn.linear_model import LinearRegression\n",
        "\n",
        "model = LinearRegression()"
      ],
      "execution_count": null,
      "outputs": []
    },
    {
      "cell_type": "code",
      "metadata": {
        "id": "N-Fe21P0TuWt",
        "colab_type": "code",
        "colab": {
          "base_uri": "https://localhost:8080/",
          "height": 35
        },
        "outputId": "434dd17c-c8f7-40ed-a88f-a882c7a3959d"
      },
      "source": [
        "# Choosing target and features\n",
        "\n",
        "target = 'price'\n",
        "\n",
        "y_train = train[target]\n",
        "y_test = test[target]\n",
        "\n",
        "features = ['longitude',\n",
        "            'latitude']\n",
        "\n",
        "print(f'Linear Regression, dependent on: {features}')\n",
        "\n",
        "X_train = train[features]\n",
        "X_test = test[features]"
      ],
      "execution_count": null,
      "outputs": [
        {
          "output_type": "stream",
          "text": [
            "Linear Regression, dependent on: ['longitude', 'latitude']\n"
          ],
          "name": "stdout"
        }
      ]
    },
    {
      "cell_type": "code",
      "metadata": {
        "id": "ku2tT74vUzBw",
        "colab_type": "code",
        "colab": {
          "base_uri": "https://localhost:8080/",
          "height": 35
        },
        "outputId": "7199d024-3723-4729-be74-75897f89a47e"
      },
      "source": [
        "# Fit the model\n",
        "\n",
        "model.fit(X_train, y_train)"
      ],
      "execution_count": null,
      "outputs": [
        {
          "output_type": "execute_result",
          "data": {
            "text/plain": [
              "LinearRegression(copy_X=True, fit_intercept=True, n_jobs=None, normalize=False)"
            ]
          },
          "metadata": {
            "tags": []
          },
          "execution_count": 124
        }
      ]
    },
    {
      "cell_type": "markdown",
      "metadata": {
        "id": "ENrBNKI8VQ-S",
        "colab_type": "text"
      },
      "source": [
        "# Model's Coefficients and Intercepts"
      ]
    },
    {
      "cell_type": "code",
      "metadata": {
        "id": "0XcvhvoXVWrL",
        "colab_type": "code",
        "colab": {
          "base_uri": "https://localhost:8080/",
          "height": 90
        },
        "outputId": "84120b9c-7ced-46bb-91d6-51ef8ad6198c"
      },
      "source": [
        "print('Model Coefficients:\\n',\n",
        "      model.coef_, '\\n',\n",
        "      'Model Intercept:\\n',\n",
        "      model.intercept_)"
      ],
      "execution_count": null,
      "outputs": [
        {
          "output_type": "stream",
          "text": [
            "Model Coefficients:\n",
            " [-16215.70541389   2208.18971896] \n",
            " Model Intercept:\n",
            " -1285931.9851655466\n"
          ],
          "name": "stdout"
        }
      ]
    },
    {
      "cell_type": "markdown",
      "metadata": {
        "id": "bcLtlWC7V4aV",
        "colab_type": "text"
      },
      "source": [
        "# Regression Metrics"
      ]
    },
    {
      "cell_type": "code",
      "metadata": {
        "id": "eXR6mqlSWBdE",
        "colab_type": "code",
        "colab": {
          "base_uri": "https://localhost:8080/",
          "height": 35
        },
        "outputId": "6e4945b3-5d17-4153-f1f7-32c35513ba66"
      },
      "source": [
        "from sklearn.metrics import mean_absolute_error, mean_squared_error, r2_score\n",
        "from matplotlib.patches import Rectangle\n",
        "\n",
        "model = LinearRegression()\n",
        "\n",
        "features = ['longitude', 'latitude']\n",
        "target = ['price']\n",
        "\n",
        "X_train = train[features]\n",
        "X_test = test[features]\n",
        "y_train = train[target]\n",
        "y_test = test[target]\n",
        "\n",
        "model.fit(X_train, y_train)"
      ],
      "execution_count": null,
      "outputs": [
        {
          "output_type": "execute_result",
          "data": {
            "text/plain": [
              "LinearRegression(copy_X=True, fit_intercept=True, n_jobs=None, normalize=False)"
            ]
          },
          "metadata": {
            "tags": []
          },
          "execution_count": 152
        }
      ]
    },
    {
      "cell_type": "code",
      "metadata": {
        "id": "BMSuM34O1nj7",
        "colab_type": "code",
        "colab": {
          "base_uri": "https://localhost:8080/",
          "height": 72
        },
        "outputId": "bb556108-cfb8-43b5-a079-6a795a18e98c"
      },
      "source": [
        "# Getting our line of best fit using our training data\n",
        "y_pred = model.predict(X_train)\n",
        "\n",
        "# Grabbing and printing regression metrics for train split\n",
        "mse = mean_squared_error(y_train, y_pred)\n",
        "rmse = np.sqrt(mse)\n",
        "mae = mean_absolute_error(y_train, y_pred)\n",
        "r2 = r2_score(y_train, y_pred)\n",
        "\n",
        "print('Root Mean Squared Error:', rmse)\n",
        "print('Mean Absolute Error:', mae)\n",
        "print('R^2:', r2)"
      ],
      "execution_count": null,
      "outputs": [
        {
          "output_type": "stream",
          "text": [
            "Root Mean Squared Error: 1704.2079552598782\n",
            "Mean Absolute Error: 1147.1493278231853\n",
            "R^2: 0.06463820907125062\n"
          ],
          "name": "stdout"
        }
      ]
    },
    {
      "cell_type": "code",
      "metadata": {
        "id": "A-NQf7hb2JQ4",
        "colab_type": "code",
        "colab": {
          "base_uri": "https://localhost:8080/",
          "height": 72
        },
        "outputId": "a99c3035-ebd0-4d0b-8712-6064c3cf512c"
      },
      "source": [
        "# Getting our line of best fit using our training data\n",
        "y_pred = model.predict(X_test)\n",
        "\n",
        "# Grabbing and printing regression metrics for test split\n",
        "mse = mean_squared_error(y_test, y_pred)\n",
        "rmse = np.sqrt(mse)\n",
        "mae = mean_absolute_error(y_test, y_pred)\n",
        "r2 = r2_score(y_test, y_pred)\n",
        "\n",
        "print('Root Mean Squared Error:', rmse)\n",
        "print('Mean Absolute Error:', mae)\n",
        "print('R^2:', r2)"
      ],
      "execution_count": null,
      "outputs": [
        {
          "output_type": "stream",
          "text": [
            "Root Mean Squared Error: 1703.0806186783316\n",
            "Mean Absolute Error: 1139.700457630829\n",
            "R^2: 0.06677485649195314\n"
          ],
          "name": "stdout"
        }
      ]
    },
    {
      "cell_type": "code",
      "metadata": {
        "id": "xZftAgTj3-G0",
        "colab_type": "code",
        "colab": {
          "base_uri": "https://localhost:8080/",
          "height": 35
        },
        "outputId": "fd4c4c42-6658-4262-8b3f-bcd3096ad0dd"
      },
      "source": [
        "model = LinearRegression()\n",
        "\n",
        "features = ['longitude', 'latitude', 'cats_allowed', 'dogs_allowed']\n",
        "target = ['price']\n",
        "\n",
        "X_train = train[features]\n",
        "X_test = test[features]\n",
        "y_train = train[target]\n",
        "y_test = test[target]\n",
        "\n",
        "model.fit(X_train, y_train)"
      ],
      "execution_count": null,
      "outputs": [
        {
          "output_type": "execute_result",
          "data": {
            "text/plain": [
              "LinearRegression(copy_X=True, fit_intercept=True, n_jobs=None, normalize=False)"
            ]
          },
          "metadata": {
            "tags": []
          },
          "execution_count": 155
        }
      ]
    },
    {
      "cell_type": "code",
      "metadata": {
        "id": "5DrlWNEW4EBH",
        "colab_type": "code",
        "colab": {
          "base_uri": "https://localhost:8080/",
          "height": 72
        },
        "outputId": "5fc099d5-1cad-4e99-b645-4cea3de7b0d7"
      },
      "source": [
        "# Getting our line of best fit using our training data\n",
        "y_pred = model.predict(X_train)\n",
        "\n",
        "# Grabbing and printing regression metrics for train split\n",
        "mse = mean_squared_error(y_train, y_pred)\n",
        "rmse = np.sqrt(mse)\n",
        "mae = mean_absolute_error(y_train, y_pred)\n",
        "r2 = r2_score(y_train, y_pred)\n",
        "\n",
        "print('Root Mean Squared Error:', rmse)\n",
        "print('Mean Absolute Error:', mae)\n",
        "print('R^2:', r2)"
      ],
      "execution_count": null,
      "outputs": [
        {
          "output_type": "stream",
          "text": [
            "Root Mean Squared Error: 1702.5292057284573\n",
            "Mean Absolute Error: 1144.5776675147295\n",
            "R^2: 0.06648007909991249\n"
          ],
          "name": "stdout"
        }
      ]
    },
    {
      "cell_type": "code",
      "metadata": {
        "id": "H8jVo_Cc4EUn",
        "colab_type": "code",
        "colab": {
          "base_uri": "https://localhost:8080/",
          "height": 72
        },
        "outputId": "c37bb0d8-f294-4899-d1f0-ef3acec8a0f7"
      },
      "source": [
        "# Getting our line of best fit using our training data\n",
        "y_pred = model.predict(X_test)\n",
        "\n",
        "# Grabbing and printing regression metrics for test split\n",
        "mse = mean_squared_error(y_test, y_pred)\n",
        "rmse = np.sqrt(mse)\n",
        "mae = mean_absolute_error(y_test, y_pred)\n",
        "r2 = r2_score(y_test, y_pred)\n",
        "\n",
        "print('Root Mean Squared Error:', rmse)\n",
        "print('Mean Absolute Error:', mae)\n",
        "print('R^2:', r2)"
      ],
      "execution_count": null,
      "outputs": [
        {
          "output_type": "stream",
          "text": [
            "Root Mean Squared Error: 1701.1104062130744\n",
            "Mean Absolute Error: 1137.8470965787908\n",
            "R^2: 0.06893281456667122\n"
          ],
          "name": "stdout"
        }
      ]
    }
  ]
}